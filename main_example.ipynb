{
 "cells": [
  {
   "cell_type": "code",
   "execution_count": 1,
   "metadata": {},
   "outputs": [],
   "source": [
    "import os\n",
    "\n",
    "os.environ[\"CUDA_DEVICE_ORDER\"] = \"PCI_BUS_ID\" \n",
    "os.environ[\"CUDA_VISIBLE_DEVICES\"] = \"0\"\n",
    "\n",
    "from ExplanationEvaluation.configs.selector import Selector\n",
    "from ExplanationEvaluation.tasks.replication import replication"
   ]
  },
  {
   "cell_type": "code",
   "execution_count": 2,
   "metadata": {},
   "outputs": [],
   "source": [
    "dataset = 'mutag'\n",
    "explainer_name = 'proxy'\n",
    "folder = 'replication'\n",
    "config_path = f\"./ExplanationEvaluation/configs/{folder}/explainers/{explainer_name}/{dataset}.json\"\n",
    "config = Selector(config_path)\n",
    "is_extension = (folder == 'extension')"
   ]
  },
  {
   "cell_type": "code",
   "execution_count": 5,
   "metadata": {},
   "outputs": [
    {
     "name": "stdout",
     "output_type": "stream",
     "text": [
      "Loading mutag dataset\n",
      "Loading MUTAG dataset, this can take a while\n",
      "Loading MUTAG groundtruth, this can take a while\n",
      "This model obtained: Train Acc: 0.8498, Val Acc: 0.8341, Test Acc: 0.8041.\n",
      "Run 0 with seed 0\n"
     ]
    },
    {
     "name": "stderr",
     "output_type": "stream",
     "text": [
      "100%|██████████| 100/100 [04:59<00:00,  2.99s/it]\n",
      "100%|██████████| 1015/1015 [00:08<00:00, 119.32it/s]\n"
     ]
    },
    {
     "name": "stdout",
     "output_type": "stream",
     "text": [
      "score: 0.985549671834725\n",
      "time_elased: 8.381867526200017\n",
      "Run 1 with seed 1\n"
     ]
    },
    {
     "name": "stderr",
     "output_type": "stream",
     "text": [
      "100%|██████████| 100/100 [04:56<00:00,  2.97s/it]\n",
      "100%|██████████| 1015/1015 [00:08<00:00, 119.40it/s]\n"
     ]
    },
    {
     "name": "stdout",
     "output_type": "stream",
     "text": [
      "score: 0.9874625323373714\n",
      "time_elased: 8.376533292197243\n",
      "Run 2 with seed 2\n"
     ]
    }
   ],
   "source": [
    "(auc, auc_std), inference_time = replication(\n",
    "    config.args.explainer,\n",
    "    is_extension,\n",
    "    device='cuda:0'\n",
    ")"
   ]
  },
  {
   "cell_type": "code",
   "execution_count": null,
   "metadata": {},
   "outputs": [],
   "source": [
    "print((auc, auc_std), inference_time)"
   ]
  }
 ],
 "metadata": {
  "kernelspec": {
   "display_name": "Python 3",
   "language": "python",
   "name": "python3"
  },
  "language_info": {
   "codemirror_mode": {
    "name": "ipython",
    "version": 3
   },
   "file_extension": ".py",
   "mimetype": "text/x-python",
   "name": "python",
   "nbconvert_exporter": "python",
   "pygments_lexer": "ipython3",
   "version": "3.9.17"
  }
 },
 "nbformat": 4,
 "nbformat_minor": 2
}
